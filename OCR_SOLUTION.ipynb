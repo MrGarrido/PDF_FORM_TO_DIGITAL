{
 "cells": [
  {
   "cell_type": "code",
   "execution_count": 334,
   "metadata": {},
   "outputs": [],
   "source": [
    "import os\n",
    "import fitz  # PyMuPDF\n",
    "import pandas as pd\n",
    "from PIL import Image\n",
    "import ollama\n",
    "\n",
    "# Specify the folder path containing the PDF files\n",
    "folder_path = '/Users/klausgarridotenorio/Library/CloudStorage/OneDrive-ErasmusUniversityRotterdam/Experiments/Data_cleaning/pdfs_to convert'\n",
    "output_folder = '/Users/klausgarridotenorio/Library/CloudStorage/OneDrive-ErasmusUniversityRotterdam/Experiments/Data_cleaning/jpgs_converted'\n",
    "\n",
    "# Get a list of all PDF files in the folder\n",
    "pdf_files = [file for file in os.listdir(folder_path) if file.endswith('.pdf')]\n",
    "\n",
    "# Convert each PDF file to PNG\n",
    "for pdf_file in pdf_files:\n",
    "    # Get the full path of the PDF file\n",
    "    pdf_path = os.path.join(folder_path, pdf_file)\n",
    "    \n",
    "    # Open the PDF\n",
    "    pdf_document = fitz.open(pdf_path)\n",
    "    \n",
    "    # Loop through all the pages in the PDF\n",
    "    for page_num in range(pdf_document.page_count):\n",
    "        # Select the page\n",
    "        page = pdf_document.load_page(page_num)\n",
    "        \n",
    "        # Render the page to an image (resolution 150 dpi)\n",
    "        pix = page.get_pixmap(dpi=150)\n",
    "        \n",
    "        # Create the output file path, ensuring each page gets a unique file name\n",
    "        output_file = os.path.splitext(pdf_file)[0] + f'_page{page_num + 1}.png'\n",
    "        output_path = os.path.join(output_folder, output_file)\n",
    "        \n",
    "        # Save the image as PNG\n",
    "        pix.save(output_path)\n",
    "        \n",
    "        # Rotate the saved PNG image 90 degrees to the right\n",
    "        img = Image.open(output_path)\n",
    "        rotated_img = img.rotate(-90, expand=True)  # Rotate 90 degrees clockwise\n",
    "        rotated_img.save(output_path)  # Overwrite the original file with the rotated image\n",
    "    \n",
    "    # Close the PDF document\n",
    "    pdf_document.close()\n",
    "\n"
   ]
  },
  {
   "cell_type": "code",
   "execution_count": 335,
   "metadata": {},
   "outputs": [],
   "source": [
    "System_prompt=\"\"\"You are an expert at interpreting information such as IBAN numbers, amounts, names, addresses, house numbers, postal codes, cities, and dates of birth from a payment slip.\n",
    "\n",
    "You have been provided with a payment slip in raw text format. Your task is to extract and organize the following information from the payment slip into a structured format:\n",
    "\n",
    "- **IBAN_Number**: The IBAN (International Bank Account Number) is a unique identifier for a bank account and should contain 18 to 34 characters depending on the country.\n",
    "- **Amount**: The monetary amount in EUR, which should be in numeric format with two decimal places (e.g., '3.46').\n",
    "- **Name**: The full name of the individual.\n",
    "- **street**: The street address including street name (e.g., 'Mariniersweg') do not ever nest the address with other address details respective sub-keys: `House number`, `Postal code`, and `City`.\n",
    "- **House Number**: The specific house or apartment number, which could include spaces or letters (e.g., '32B').\n",
    "- **Postal Code**: The postal code of the payer, which is normally 4 numbers and two letters (e.g., '3014 NP').\n",
    "- **City**: The city where the payer resides.\n",
    "- **Date of Birth**: The payers date of birth in the format 'DD/MM/YYYY'.\n",
    "\n",
    "You will receive the information in raw form, and your task is to parse it into dictionary structure as in the following example:\n",
    "\n",
    "Example of raw data:\n",
    "THIS IS A RECEIPT CONFIRMATION FOR THE EUR’S FI...\n",
    "INFORMATION WILL NEVER BE COUPLED TO YOUR RESPO...\n",
    "                                              Name\n",
    "                                           Address\n",
    "                                      House number\n",
    "                                       Postal code\n",
    "                                              City\n",
    "                                     Klaus Garrido\n",
    "                                      Mariniersweg\n",
    "                                           6723 TL\n",
    "                                         Rotterdam\n",
    "                                             532 B\n",
    "                                            Amount\n",
    "                               IBAN (Bank account)\n",
    "                                        BSN number\n",
    "                                     Date of birth\n",
    "                                         Signature\n",
    "                                        (optional)\n",
    "                          NL32 ABNA 7330 6416 7385\n",
    "                                              5,99\n",
    "                                        16/06/2005  \n",
    "                                  Date experiment:\n",
    "\n",
    "Example of dictionary structure (Expected Output):\n",
    "```python\n",
    "{\n",
    "  'IBAN_Number': 'NL32 ABNA 7330 6416 7385',\n",
    "  'Amount': '5.99',\n",
    "  'Name': 'Klaus Garrido',\n",
    "  'Street': 'Mariniersweg',\n",
    "  'House Number': '532 B',\n",
    "  'Postal Code': '6723 TL',\n",
    "  'City': 'Rotterdam',\n",
    "  'Date of Birth': '16/06/2005'\n",
    "}\n",
    "```\n",
    "\n",
    "Please note that:\n",
    "1. The **IBAN_Number** must be a valid IBAN format of the appropriate length.\n",
    "2. The **Amount** must be formatted as a float with two decimal places.\n",
    "3. The **Date of Birth** should follow the 'DD/MM/YYYY' format.\n",
    "\n",
    "\n",
    "\n",
    "\n",
    "The user will provide the raw format, and you will respond with the structured format only. Do **not** include any additional text such as 'Here is the extracted data in a structured format:' or 'Let me know if you need anything else!'. Simply output the structured dictionary.\"\n",
    "\"\"\""
   ]
  },
  {
   "cell_type": "code",
   "execution_count": 336,
   "metadata": {},
   "outputs": [
    {
     "data": {
      "text/plain": [
       "'You are an expert at interpreting information such as IBAN numbers, amounts, names, addresses, house numbers, postal codes, cities, and dates of birth from a payment slip.\\n\\nYou have been provided with a payment slip in raw text format. Your task is to extract and organize the following information from the payment slip into a structured format:\\n\\n- **IBAN_Number**: The IBAN (International Bank Account Number) is a unique identifier for a bank account and should contain 18 to 34 characters depending on the country.\\n- **Amount**: The monetary amount in EUR, which should be in numeric format with two decimal places (e.g., \\'3.46\\').\\n- **Name**: The full name of the individual.\\n- **street**: The street address including street name (e.g., \\'Mariniersweg\\') do not ever nest the address with other address details respective sub-keys: `House number`, `Postal code`, and `City`.\\n- **House Number**: The specific house or apartment number, which could include spaces or letters (e.g., \\'32B\\').\\n- **Postal Code**: The postal code of the payer, which is normally 4 numbers and two letters (e.g., \\'3014 NP\\').\\n- **City**: The city where the payer resides.\\n- **Date of Birth**: The payers date of birth in the format \\'DD/MM/YYYY\\'.\\n\\nYou will receive the information in raw form, and your task is to parse it into dictionary structure as in the following example:\\n\\nExample of raw data:\\nTHIS IS A RECEIPT CONFIRMATION FOR THE EUR’S FI...\\nINFORMATION WILL NEVER BE COUPLED TO YOUR RESPO...\\n                                              Name\\n                                           Address\\n                                      House number\\n                                       Postal code\\n                                              City\\n                                       Ha Chi Pham\\n                                      Mariniersweg\\n                                          30 14 NP\\n                                         Rottendam\\n                                               32B\\n                                            Amount\\n                               IBAN (Bank account)\\n                                        BSN number\\n                                     Date of birth\\n                                         Signature\\n                                        (optional)\\n                                NL82REV04106845862\\n                                              3,46\\n                                        2910812005\\n                                                IM\\n                                  Date experiment:\\n\\nExample of dictionary structure (Expected Output):\\n```python\\n{\\n  \\'IBAN_Number\\': \\'BE89 7330 64167385\\',\\n  \\'Amount\\': \\'3.38\\',\\n  \\'Name\\': \\'Genes\\',\\n  \\'Street\\': \\'Avenue Houreau\\',\\n  \\'House Number\\': \\'94\\',\\n  \\'Postal Code\\': \\'1180\\',\\n  \\'City\\': \\'Brussels\\',\\n  \\'Date of Birth\\': \\'16/04/2005\\'\\n}\\n{\\n  \\'IBAN_Number\\': \\'NL 38ING B0106257889\\',\\n  \\'Amount\\': \\'3.62\\',\\n  \\'Name\\': \\'Madina\\',\\n  \\'Street\\': \\'Akrerwinde\\',\\n  \\'House Number\\': \\'136\\',\\n  \\'Postal Code\\': \\'2806 XH\\',\\n  \\'City\\': \\'Capelle\\',\\n  \\'Date of Birth\\': \\'24/11/2006\\'\\n}\\n{\\n  \\'IBAN_Number\\': \\'N07 INGB06 81 1594 05\\',\\n  \\'Amount\\': \\'4.77\\',\\n  \\'Name\\': \\'Joshva van den Ouchen\\',\\n  \\'Street\\': \\'klarin\\',\\n  \\'House Number\\': \\'28\\',\\n  \\'Postal Code\\': \\'3261 GC\\',\\n  \\'City\\': \\'den Ouchen\\',\\n  \\'Date of Birth\\': \\'14/04/2003\\'\\n}\\n{\\n  \\'IBAN_Number\\': \\'NL73 IN678 0107784912\\',\\n  \\'Amount\\': \\'3.92\\',\\n  \\'Name\\': \\'Shriyan\\',\\n  \\'Street\\': \\'Van Wassenaerstraat\\',\\n  \\'House Number\\': \\'76\\',\\n  \\'Postal Code\\': \\'2274 RE\\',\\n  \\'City\\': \\'Voorburg\\',\\n  \\'Date of Birth\\': \\'27/09/2006\\'\\n}\\n{\\n  \\'IBAN_Number\\': \\'NL64RABO 0347 121454\\',\\n  \\'Amount\\': \\'4.38\\',\\n  \\'Name\\': \\'FARAh\\',\\n  \\'Street\\': \\'Kardinaal van Rossu\\',\\n  \\'House Number\\': \\'15\\',\\n  \\'Postal Code\\': \\'4702JP\\',\\n  \\'City\\': \\'Roosendcal\\',\\n  \\'Date of Birth\\': \\'22/04/2006\\'\\n}\\n{\\n  \\'IBAN_Number\\': \\'NL 62 RABO 0378 0158 93\\',\\n  \\'Amount\\': \\'4.23\\',\\n  \\'Name\\': \\'Floris\\',\\n  \\'Street\\': \\'Oustzeedist Beneden, Nottendom\\',\\n  \\'House Number\\': \\'213\\',\\n  \\'Postal Code\\': \\'3661 UT\\',\\n  \\'City\\': \\'Rotterdam\\',\\n  \\'Date of Birth\\': \\'02/03/2005\\'\\n}\\n{\\n  \\'IBAN_Number\\': \\'BSN 4423 97\\',\\n  \\'Amount\\': \\'-307.00\\',\\n  \\'Name\\': \\'Alessio\\',\\n  \\'Street\\': \\'None\\',\\n  \\'House Number\\': \\'None\\',\\n  \\'Postal Code\\': \\'None\\',\\n  \\'City\\': \\'None\\',\\n  \\'Date of Birth\\': \\'None\\'\\n}\\n{\\n  \\'IBAN_Number\\': \\'NL64 INGB 0684 1700 35\\',\\n  \\'Amount\\': \\'6.00\\',\\n  \\'Name\\': \\'Tessa\\',\\n  \\'Street\\': \\'klaproos\\',\\n  \\'House Number\\': \\'33 - C\\',\\n  \\'Postal Code\\': \\'7483 AR\\',\\n  \\'City\\': \\'Haaksbergen\\',\\n  \\'Date of Birth\\': \\'20/05/2006\\'\\n}\\n{\\n  \\'IBAN_Number\\': \\'ES 91 0081 1022 0100\\',\\n  \\'Amount\\': \\'3.08\\',\\n  \\'Name\\': \\'Pedro\\',\\n  \\'Street\\': \\'Willem Ray slaan\\',\\n  \\'House Number\\': \\'225\\',\\n  \\'Postal Code\\': \\'3063 ER\\',\\n  \\'City\\': \\'Rotterdam\\',\\n  \\'Date of Birth\\': \\'01/09/2003\\'\\n}\\n{\\n  \\'IBAN_Number\\': \\'NL 18 ABNA 0245 7076 38\\',\\n  \\'Amount\\': \\'5.08\\',\\n  \\'Name\\': \\'Veerle Leider\\',\\n  \\'Street\\': \\'Stalbergweg\\',\\n  \\'House Number\\': \\'156\\',\\n  \\'Postal Code\\': \\'5913 BV\\',\\n  \\'City\\': \\'VENLO\\',\\n  \\'Date of Birth\\': \\'30/09/2005\\'\\n}\\n{\\n  \\'IBAN_Number\\': \\'NL96RABO0310382904\\',\\n  \\'Amount\\': \\'5.23\\',\\n  \\'Name\\': \\'Federica Garau\\',\\n  \\'Street\\': \\'Braziliestraat\\',\\n  \\'House Number\\': \\'50\\',\\n  \\'Postal Code\\': \\'2408 HD\\',\\n  \\'City\\': \\'Alphen aan den Rijn\\',\\n  \\'Date of Birth\\': \\'08/06/2006\\'\\n}\\n{\\n  \\'IBAN_Number\\': \\'NL24 ABNA 0339 453346\\',\\n  \\'Amount\\': \\'3.38\\',\\n  \\'Name\\': \\'Emily\\',\\n  \\'Street\\': \\'Maerlantstraat\\',\\n  \\'House Number\\': \\'20\\',\\n  \\'Postal Code\\': \\'4873AT\\',\\n  \\'City\\': \\'Etten-Leur\\',\\n  \\'Date of Birth\\': \\'18/10/2006\\'\\n}\\n{\\n  \\'IBAN_Number\\': \\'NL42 INGB 0667 419543\\',\\n  \\'Amount\\': \\'5.54\\',\\n  \\'Name\\': \\'Mourits Hourist\\',\\n  \\'Street\\': \\'Hemmenliamp\\',\\n  \\'House Number\\': \\'9\\',\\n  \\'Postal Code\\': \\'9751NX\\',\\n  \\'City\\': \\'Haren\\',\\n  \\'Date of Birth\\': \\'03/04/2006\\'\\n}\\n{\\n  \\'IBAN_Number\\': \\'NL26 INGB 0793 0951 23\\',\\n  \\'Amount\\': \\'3.08\\',\\n  \\'Name\\': \\'Puch Van der Bie\\',\\n  \\'Street\\': \\'Gelderlandlaan\\',\\n  \\'House Number\\': \\'11\\',\\n  \\'Postal Code\\': \\'3137 SC\\',\\n  \\'City\\': \\'Vlaardinger\\',\\n  \\'Date of Birth\\': \\'15/05/2006\\'\\n}\\n```\\n\\nPlease note that:\\n1. The **IBAN_Number** must be a valid IBAN format of the appropriate length.\\n2. The **Amount** must be formatted as a float with two decimal places.\\n3. The **Date of Birth** should follow the \\'DD/MM/YYYY\\' format.\\n\\n\\n\\n\\nThe user will provide the raw format, and you will respond with the structured format only. Do **not** include any additional text such as \\'Here is the extracted data in a structured format:\\' or \\'Let me know if you need anything else!\\'. Simply output the structured dictionary.\"\\n'"
      ]
     },
     "execution_count": 336,
     "metadata": {},
     "output_type": "execute_result"
    }
   ],
   "source": [
    "System_prompt"
   ]
  },
  {
   "cell_type": "code",
   "execution_count": 337,
   "metadata": {},
   "outputs": [
    {
     "name": "stdout",
     "output_type": "stream",
     "text": [
      "Loaded detection model vikp/surya_det3 on device mps with dtype torch.float16\n",
      "Loaded recognition model vikp/surya_rec2 on device mps with dtype torch.float16\n"
     ]
    },
    {
     "name": "stderr",
     "output_type": "stream",
     "text": [
      "Detecting bboxes: 100%|██████████| 1/1 [00:03<00:00,  3.25s/it]\n",
      "Recognizing Text: 100%|██████████| 1/1 [00:09<00:00,  9.77s/it]\n"
     ]
    },
    {
     "name": "stdout",
     "output_type": "stream",
     "text": [
      "JSON decoding error: Expecting property name enclosed in double quotes: line 2 column 23 (char 24)\n",
      "Error processing image Batch_5_page8.png: Invalid JSON format in the response.\n",
      "Progress =0.03333333333333333 aka detail 1/30: Batch_5_page8.png\n"
     ]
    },
    {
     "name": "stderr",
     "output_type": "stream",
     "text": [
      "Detecting bboxes: 100%|██████████| 1/1 [00:01<00:00,  1.66s/it]\n",
      "Recognizing Text: 100%|██████████| 1/1 [00:11<00:00, 11.73s/it]\n"
     ]
    },
    {
     "name": "stdout",
     "output_type": "stream",
     "text": [
      "Progress =0.06666666666666667 aka detail 2/30: Batch_5_page9.png\n"
     ]
    },
    {
     "name": "stderr",
     "output_type": "stream",
     "text": [
      "Detecting bboxes: 100%|██████████| 1/1 [00:01<00:00,  1.48s/it]\n",
      "Recognizing Text: 100%|██████████| 1/1 [00:09<00:00,  9.21s/it]\n"
     ]
    },
    {
     "name": "stdout",
     "output_type": "stream",
     "text": [
      "Progress =0.1 aka detail 3/30: Batch_5_page26.png\n"
     ]
    },
    {
     "name": "stderr",
     "output_type": "stream",
     "text": [
      "Detecting bboxes: 100%|██████████| 1/1 [00:01<00:00,  1.28s/it]\n",
      "Recognizing Text: 100%|██████████| 1/1 [00:13<00:00, 13.06s/it]\n"
     ]
    },
    {
     "name": "stdout",
     "output_type": "stream",
     "text": [
      "Progress =0.13333333333333333 aka detail 4/30: Batch_5_page27.png\n"
     ]
    },
    {
     "name": "stderr",
     "output_type": "stream",
     "text": [
      "Detecting bboxes: 100%|██████████| 1/1 [00:02<00:00,  2.02s/it]\n",
      "Recognizing Text: 100%|██████████| 1/1 [00:09<00:00,  9.09s/it]\n"
     ]
    },
    {
     "name": "stdout",
     "output_type": "stream",
     "text": [
      "Progress =0.16666666666666666 aka detail 5/30: Batch_5_page25.png\n"
     ]
    },
    {
     "name": "stderr",
     "output_type": "stream",
     "text": [
      "Detecting bboxes: 100%|██████████| 1/1 [00:00<00:00,  1.48it/s]\n",
      "Recognizing Text: 100%|██████████| 1/1 [00:08<00:00,  8.79s/it]\n"
     ]
    },
    {
     "name": "stdout",
     "output_type": "stream",
     "text": [
      "Progress =0.2 aka detail 6/30: Batch_5_page19.png\n"
     ]
    },
    {
     "name": "stderr",
     "output_type": "stream",
     "text": [
      "Detecting bboxes: 100%|██████████| 1/1 [00:00<00:00,  1.75it/s]\n",
      "Recognizing Text: 100%|██████████| 1/1 [00:14<00:00, 14.19s/it]\n"
     ]
    },
    {
     "name": "stdout",
     "output_type": "stream",
     "text": [
      "JSON decoding error: Expecting value: line 3 column 11 (char 37)\n",
      "Error processing image Batch_5_page18.png: Invalid JSON format in the response.\n",
      "Progress =0.23333333333333334 aka detail 7/30: Batch_5_page18.png\n"
     ]
    },
    {
     "name": "stderr",
     "output_type": "stream",
     "text": [
      "Detecting bboxes: 100%|██████████| 1/1 [00:01<00:00,  1.90s/it]\n",
      "Recognizing Text: 100%|██████████| 1/1 [00:09<00:00,  9.13s/it]\n"
     ]
    },
    {
     "name": "stdout",
     "output_type": "stream",
     "text": [
      "Progress =0.26666666666666666 aka detail 8/30: Batch_5_page30.png\n"
     ]
    },
    {
     "name": "stderr",
     "output_type": "stream",
     "text": [
      "Detecting bboxes: 100%|██████████| 1/1 [00:00<00:00,  2.09it/s]\n",
      "Recognizing Text: 100%|██████████| 1/1 [00:11<00:00, 11.23s/it]\n"
     ]
    },
    {
     "name": "stdout",
     "output_type": "stream",
     "text": [
      "Progress =0.3 aka detail 9/30: Batch_5_page24.png\n"
     ]
    },
    {
     "name": "stderr",
     "output_type": "stream",
     "text": [
      "Detecting bboxes: 100%|██████████| 1/1 [00:00<00:00,  1.97it/s]\n",
      "Recognizing Text: 100%|██████████| 1/1 [00:09<00:00,  9.12s/it]\n"
     ]
    },
    {
     "name": "stdout",
     "output_type": "stream",
     "text": [
      "Progress =0.3333333333333333 aka detail 10/30: Batch_5_page20.png\n"
     ]
    },
    {
     "name": "stderr",
     "output_type": "stream",
     "text": [
      "Detecting bboxes: 100%|██████████| 1/1 [00:00<00:00,  1.70it/s]\n",
      "Recognizing Text: 100%|██████████| 1/1 [00:12<00:00, 12.70s/it]\n"
     ]
    },
    {
     "name": "stdout",
     "output_type": "stream",
     "text": [
      "Progress =0.36666666666666664 aka detail 11/30: Batch_5_page21.png\n"
     ]
    },
    {
     "name": "stderr",
     "output_type": "stream",
     "text": [
      "Detecting bboxes: 100%|██████████| 1/1 [00:02<00:00,  2.09s/it]\n",
      "Recognizing Text: 100%|██████████| 1/1 [00:08<00:00,  8.81s/it]\n"
     ]
    },
    {
     "name": "stdout",
     "output_type": "stream",
     "text": [
      "Progress =0.4 aka detail 12/30: Batch_5_page23.png\n"
     ]
    },
    {
     "name": "stderr",
     "output_type": "stream",
     "text": [
      "Detecting bboxes: 100%|██████████| 1/1 [00:02<00:00,  2.09s/it]\n",
      "Recognizing Text: 100%|██████████| 1/1 [00:09<00:00,  9.41s/it]\n"
     ]
    },
    {
     "name": "stdout",
     "output_type": "stream",
     "text": [
      "Progress =0.43333333333333335 aka detail 13/30: Batch_5_page22.png\n"
     ]
    },
    {
     "name": "stderr",
     "output_type": "stream",
     "text": [
      "Detecting bboxes: 100%|██████████| 1/1 [00:00<00:00,  2.22it/s]\n",
      "Recognizing Text: 100%|██████████| 1/1 [00:09<00:00,  9.38s/it]\n"
     ]
    },
    {
     "name": "stdout",
     "output_type": "stream",
     "text": [
      "Progress =0.4666666666666667 aka detail 14/30: Batch_5_page13.png\n"
     ]
    },
    {
     "name": "stderr",
     "output_type": "stream",
     "text": [
      "Detecting bboxes: 100%|██████████| 1/1 [00:01<00:00,  1.22s/it]\n",
      "Recognizing Text: 100%|██████████| 1/1 [00:08<00:00,  8.81s/it]\n"
     ]
    },
    {
     "name": "stdout",
     "output_type": "stream",
     "text": [
      "JSON decoding error: Expecting value: line 3 column 11 (char 33)\n",
      "Error processing image Batch_5_page12.png: Invalid JSON format in the response.\n",
      "Progress =0.5 aka detail 15/30: Batch_5_page12.png\n"
     ]
    },
    {
     "name": "stderr",
     "output_type": "stream",
     "text": [
      "Detecting bboxes: 100%|██████████| 1/1 [00:01<00:00,  1.56s/it]\n",
      "Recognizing Text: 100%|██████████| 1/1 [00:08<00:00,  8.42s/it]\n"
     ]
    },
    {
     "name": "stdout",
     "output_type": "stream",
     "text": [
      "Progress =0.5333333333333333 aka detail 16/30: Batch_5_page10.png\n"
     ]
    },
    {
     "name": "stderr",
     "output_type": "stream",
     "text": [
      "Detecting bboxes: 100%|██████████| 1/1 [00:00<00:00,  2.41it/s]\n",
      "Recognizing Text: 100%|██████████| 1/1 [00:09<00:00,  9.42s/it]\n"
     ]
    },
    {
     "name": "stdout",
     "output_type": "stream",
     "text": [
      "Progress =0.5666666666666667 aka detail 17/30: Batch_5_page11.png\n"
     ]
    },
    {
     "name": "stderr",
     "output_type": "stream",
     "text": [
      "Detecting bboxes: 100%|██████████| 1/1 [00:00<00:00,  1.15it/s]\n",
      "Recognizing Text: 100%|██████████| 1/1 [00:13<00:00, 13.23s/it]\n"
     ]
    },
    {
     "name": "stdout",
     "output_type": "stream",
     "text": [
      "Progress =0.6 aka detail 18/30: Batch_5_page29.png\n"
     ]
    },
    {
     "name": "stderr",
     "output_type": "stream",
     "text": [
      "Detecting bboxes: 100%|██████████| 1/1 [00:01<00:00,  1.20s/it]\n",
      "Recognizing Text: 100%|██████████| 1/1 [00:08<00:00,  8.82s/it]\n"
     ]
    },
    {
     "name": "stdout",
     "output_type": "stream",
     "text": [
      "Progress =0.6333333333333333 aka detail 19/30: Batch_5_page15.png\n"
     ]
    },
    {
     "name": "stderr",
     "output_type": "stream",
     "text": [
      "Detecting bboxes: 100%|██████████| 1/1 [00:01<00:00,  1.48s/it]\n",
      "Recognizing Text: 100%|██████████| 1/1 [00:10<00:00, 10.95s/it]\n"
     ]
    },
    {
     "name": "stdout",
     "output_type": "stream",
     "text": [
      "Progress =0.6666666666666666 aka detail 20/30: Batch_5_page14.png\n"
     ]
    },
    {
     "name": "stderr",
     "output_type": "stream",
     "text": [
      "Detecting bboxes: 100%|██████████| 1/1 [00:01<00:00,  1.70s/it]\n",
      "Recognizing Text: 100%|██████████| 1/1 [00:08<00:00,  8.93s/it]\n"
     ]
    },
    {
     "name": "stdout",
     "output_type": "stream",
     "text": [
      "JSON decoding error: Expecting ',' delimiter: line 6 column 22 (char 131)\n",
      "Error processing image Batch_5_page28.png: Invalid JSON format in the response.\n",
      "Progress =0.7 aka detail 21/30: Batch_5_page28.png\n"
     ]
    },
    {
     "name": "stderr",
     "output_type": "stream",
     "text": [
      "Detecting bboxes: 100%|██████████| 1/1 [00:01<00:00,  1.94s/it]\n",
      "Recognizing Text: 100%|██████████| 1/1 [00:09<00:00,  9.11s/it]\n"
     ]
    },
    {
     "name": "stdout",
     "output_type": "stream",
     "text": [
      "Progress =0.7333333333333333 aka detail 22/30: Batch_5_page16.png\n"
     ]
    },
    {
     "name": "stderr",
     "output_type": "stream",
     "text": [
      "Detecting bboxes: 100%|██████████| 1/1 [00:02<00:00,  2.26s/it]\n",
      "Recognizing Text: 100%|██████████| 1/1 [00:11<00:00, 11.11s/it]\n"
     ]
    },
    {
     "name": "stdout",
     "output_type": "stream",
     "text": [
      "Progress =0.7666666666666667 aka detail 23/30: Batch_5_page17.png\n"
     ]
    },
    {
     "name": "stderr",
     "output_type": "stream",
     "text": [
      "Detecting bboxes: 100%|██████████| 1/1 [00:02<00:00,  2.12s/it]\n",
      "Recognizing Text: 100%|██████████| 1/1 [00:10<00:00, 10.83s/it]\n"
     ]
    },
    {
     "name": "stdout",
     "output_type": "stream",
     "text": [
      "Progress =0.8 aka detail 24/30: Batch_5_page2.png\n"
     ]
    },
    {
     "name": "stderr",
     "output_type": "stream",
     "text": [
      "Detecting bboxes: 100%|██████████| 1/1 [00:01<00:00,  1.61s/it]\n",
      "Recognizing Text: 100%|██████████| 1/1 [00:08<00:00,  8.94s/it]\n"
     ]
    },
    {
     "name": "stdout",
     "output_type": "stream",
     "text": [
      "JSON decoding error: Expecting value: line 3 column 11 (char 39)\n",
      "Error processing image Batch_5_page3.png: Invalid JSON format in the response.\n",
      "Progress =0.8333333333333334 aka detail 25/30: Batch_5_page3.png\n"
     ]
    },
    {
     "name": "stderr",
     "output_type": "stream",
     "text": [
      "Detecting bboxes: 100%|██████████| 1/1 [00:01<00:00,  1.64s/it]\n",
      "Recognizing Text: 100%|██████████| 1/1 [00:08<00:00,  8.43s/it]\n"
     ]
    },
    {
     "name": "stdout",
     "output_type": "stream",
     "text": [
      "Progress =0.8666666666666667 aka detail 26/30: Batch_5_page1.png\n"
     ]
    },
    {
     "name": "stderr",
     "output_type": "stream",
     "text": [
      "Detecting bboxes: 100%|██████████| 1/1 [00:00<00:00,  2.37it/s]\n",
      "Recognizing Text: 100%|██████████| 1/1 [00:08<00:00,  8.37s/it]\n"
     ]
    },
    {
     "name": "stdout",
     "output_type": "stream",
     "text": [
      "Progress =0.9 aka detail 27/30: Batch_5_page4.png\n"
     ]
    },
    {
     "name": "stderr",
     "output_type": "stream",
     "text": [
      "Detecting bboxes: 100%|██████████| 1/1 [00:00<00:00,  2.49it/s]\n",
      "Recognizing Text: 100%|██████████| 1/1 [00:08<00:00,  8.73s/it]\n"
     ]
    },
    {
     "name": "stdout",
     "output_type": "stream",
     "text": [
      "Progress =0.9333333333333333 aka detail 28/30: Batch_5_page5.png\n"
     ]
    },
    {
     "name": "stderr",
     "output_type": "stream",
     "text": [
      "Detecting bboxes: 100%|██████████| 1/1 [00:00<00:00,  2.43it/s]\n",
      "Recognizing Text: 100%|██████████| 1/1 [00:08<00:00,  8.96s/it]\n"
     ]
    },
    {
     "name": "stdout",
     "output_type": "stream",
     "text": [
      "Progress =0.9666666666666667 aka detail 29/30: Batch_5_page7.png\n"
     ]
    },
    {
     "name": "stderr",
     "output_type": "stream",
     "text": [
      "Detecting bboxes: 100%|██████████| 1/1 [00:00<00:00,  1.96it/s]\n",
      "Recognizing Text: 100%|██████████| 1/1 [00:08<00:00,  8.48s/it]\n"
     ]
    },
    {
     "name": "stdout",
     "output_type": "stream",
     "text": [
      "Progress =1.0 aka detail 30/30: Batch_5_page6.png\n"
     ]
    }
   ],
   "source": [
    "import os\n",
    "from PIL import Image\n",
    "from surya.ocr import run_ocr\n",
    "from surya.model.detection.model import load_model as load_det_model, load_processor as load_det_processor\n",
    "from surya.model.recognition.model import load_model as load_rec_model\n",
    "from surya.model.recognition.processor import load_processor as load_rec_processor\n",
    "import re\n",
    "import json\n",
    "import pandas as pd\n",
    "\n",
    "# Initialize Final_data_processed as an empty DataFrame before the loop\n",
    "Final_data_processed = pd.DataFrame()\n",
    "\n",
    "# Get a list of all .png files in the output folder\n",
    "image_files = [file for file in os.listdir(output_folder) if file.lower().endswith('.png')]\n",
    "\n",
    "# Load the models and processors once before the loop\n",
    "langs = [\"en\"]  # Replace with your languages - optional but recommended\n",
    "det_processor, det_model = load_det_processor(), load_det_model()\n",
    "rec_model, rec_processor = load_rec_model(), load_rec_processor()\n",
    "\n",
    "# Process each image file\n",
    "for i, image_file in enumerate(image_files):\n",
    "    # Get the full path of the image file\n",
    "    image_path = os.path.join(output_folder, image_file)\n",
    "    \n",
    "    try:\n",
    "        # Load the image\n",
    "        image = Image.open(image_path)\n",
    "        \n",
    "        # Run OCR on the image\n",
    "        predictions = run_ocr(\n",
    "            images=[image],\n",
    "            langs=[langs],\n",
    "            det_model=det_model,\n",
    "            det_processor=det_processor,\n",
    "            rec_model=rec_model,\n",
    "            rec_processor=rec_processor\n",
    "        )\n",
    "        \n",
    "        # Extract data into a DataFrame\n",
    "        data = {\n",
    "            'polygon': [text_line.polygon for text_line in predictions[0].text_lines],\n",
    "            'confidence': [text_line.confidence for text_line in predictions[0].text_lines],\n",
    "            'text': [text_line.text for text_line in predictions[0].text_lines],\n",
    "            'bbox': [text_line.bbox for text_line in predictions[0].text_lines]\n",
    "        }\n",
    "        df = pd.DataFrame(data)\n",
    "        \n",
    "        # Prepare the system prompt and user prompt for the chat model\n",
    "        system_prompt = (\n",
    "            \"You are a helpful assistant that extracts structured information from text. \"\n",
    "            \"When given text data, you will extract the following fields if present: \"\n",
    "            \"IBAN, Amount, Name, Address, House number, Postal code, City, Date of birth. \"\n",
    "            \"Provide the extracted information in a JSON format with the specified keys.\"\n",
    "        )\n",
    "        \n",
    "        user_prompt = (\n",
    "            \"Please extract the required information from the following text:\\n\\n\"\n",
    "            + \"\\n\".join(df['text'].tolist())\n",
    "            + \"\\n\\n\"\n",
    "            \"Provide the output strictly in JSON format with the keys: \"\n",
    "            \"'IBAN', 'Amount', 'Name', 'Address', 'House number', 'Postal code', 'City', 'Date of birth'.\"\n",
    "        )\n",
    "        \n",
    "        # Get the response from the language model\n",
    "        response = ollama.chat(\n",
    "            model='llama3',\n",
    "            messages=[\n",
    "                {\"role\": \"system\", \"content\": system_prompt},\n",
    "                {\"role\": \"user\", \"content\": user_prompt}\n",
    "            ]\n",
    "        )\n",
    "        \n",
    "        # Extract the JSON data from the response\n",
    "        try:\n",
    "            # Assuming the model returns the JSON directly\n",
    "            response_content = response['message']['content']\n",
    "            \n",
    "            # Use a regular expression to extract the JSON object from the response\n",
    "            json_match = re.search(r'(\\{.*\\})', response_content, re.DOTALL)\n",
    "            if json_match:\n",
    "                json_str = json_match.group(1)\n",
    "                # Load the JSON data\n",
    "                data_dict = json.loads(json_str)\n",
    "            else:\n",
    "                raise ValueError(\"No JSON object found in the response.\")\n",
    "            \n",
    "        except json.JSONDecodeError as e:\n",
    "            # Handle JSON decoding errors\n",
    "            print(f\"JSON decoding error: {e}\")\n",
    "            raise ValueError(\"Invalid JSON format in the response.\")\n",
    "        \n",
    "        # Ensure all required keys are present in the dictionary\n",
    "        required_keys = ['IBAN', 'Amount', 'Name', 'Address', 'House number', 'Postal code', 'City', 'Date of birth']\n",
    "        # Initialize missing keys with None\n",
    "        for key in required_keys:\n",
    "            if key not in data_dict:\n",
    "                data_dict[key] = None\n",
    "        \n",
    "        # Check if all required values are present (non-empty and not None)\n",
    "        is_complete = all(data_dict.get(key) for key in required_keys)\n",
    "        \n",
    "        # Convert the dictionary into a DataFrame with a single row\n",
    "        new_row_df = pd.DataFrame([data_dict])\n",
    "        \n",
    "        # Add the \"complete\" column: 1 if complete, 0 if any value is missing\n",
    "        new_row_df['complete'] = int(is_complete)\n",
    "        \n",
    "        # Optionally, add the image file name for reference\n",
    "        new_row_df['image_file'] = image_file\n",
    "        \n",
    "        # Append the new row to the existing DataFrame using pd.concat\n",
    "        Final_data_processed = pd.concat([Final_data_processed, new_row_df], ignore_index=True)\n",
    "        \n",
    "    except Exception as e:\n",
    "        # Handle the error\n",
    "        print(f\"Error processing image {image_file}: {e}\")\n",
    "        # Create a dictionary with None or default values\n",
    "        failed_dict = {key: None for key in required_keys}\n",
    "        failed_dict['complete'] = 0  # Indicate failure\n",
    "        failed_dict['image_file'] = image_file\n",
    "        # Convert to DataFrame\n",
    "        failed_row_df = pd.DataFrame([failed_dict])\n",
    "        # Append to Final_data_processed\n",
    "        Final_data_processed = pd.concat([Final_data_processed, failed_row_df], ignore_index=True)\n",
    "        \n",
    "    # Print the progress\n",
    "    print(f\"Progress ={(i+1)/len(image_files)} aka detail {i+1}/{len(image_files)}: {image_file}\")"
   ]
  },
  {
   "cell_type": "code",
   "execution_count": null,
   "metadata": {},
   "outputs": [],
   "source": [
    "Final_data_processed"
   ]
  }
 ],
 "metadata": {
  "kernelspec": {
   "display_name": "Python 3",
   "language": "python",
   "name": "python3"
  },
  "language_info": {
   "codemirror_mode": {
    "name": "ipython",
    "version": 3
   },
   "file_extension": ".py",
   "mimetype": "text/x-python",
   "name": "python",
   "nbconvert_exporter": "python",
   "pygments_lexer": "ipython3",
   "version": "3.12.0"
  }
 },
 "nbformat": 4,
 "nbformat_minor": 2
}
